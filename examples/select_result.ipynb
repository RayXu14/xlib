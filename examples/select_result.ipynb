{
 "cells": [
  {
   "cell_type": "code",
   "execution_count": null,
   "metadata": {},
   "outputs": [],
   "source": [
    "%reload_ext autoreload\n",
    "%autoreload 2"
   ]
  },
  {
   "cell_type": "code",
   "execution_count": 11,
   "metadata": {},
   "outputs": [],
   "source": [
    "collected = []\n",
    "refer_line = None\n",
    "with open('Fr_single_e10') as f1, open('Fr_mldg_e15') as f2:\n",
    "    for i, (l1, l2) in enumerate(zip(f1, f2)):\n",
    "        if i % 2 == 0:\n",
    "            refer_line = l1\n",
    "            assert l1 == l2\n",
    "            continue\n",
    "        else:\n",
    "            try:\n",
    "                l2.index('Je suis') >= 0\n",
    "                continue\n",
    "            except:\n",
    "                pass\n",
    "            try:\n",
    "                l2.index('C\\' est') >= 0\n",
    "                continue\n",
    "            except:\n",
    "                pass\n",
    "            try:\n",
    "                l2.index('c\\' est') >= 0\n",
    "                continue\n",
    "            except:\n",
    "                pass\n",
    "            try:\n",
    "                refer_line.index('<unk>') >= 0\n",
    "                continue\n",
    "            except:\n",
    "                pass\n",
    "            try:\n",
    "                l1.index('<unk>') >= 0\n",
    "                continue\n",
    "            except:\n",
    "                pass\n",
    "            try:\n",
    "                l2.index('<unk>') >= 0\n",
    "                continue\n",
    "            except:\n",
    "                pass\n",
    "            try:\n",
    "                l2.index('Je ne') == 0\n",
    "                continue\n",
    "            except:\n",
    "                pass\n",
    "            try:\n",
    "                l2.index('C\\' était') == 0\n",
    "                continue\n",
    "            except:\n",
    "                pass\n",
    "            try:\n",
    "                l2.index('J\\' ai') == 0\n",
    "                continue\n",
    "            except:\n",
    "                pass\n",
    "            collected.append((refer_line, l1, l2))"
   ]
  },
  {
   "cell_type": "code",
   "execution_count": 12,
   "metadata": {},
   "outputs": [
    {
     "data": {
      "text/plain": [
       "14"
      ]
     },
     "execution_count": 12,
     "metadata": {},
     "output_type": "execute_result"
    }
   ],
   "source": [
    "len(collected)"
   ]
  },
  {
   "cell_type": "code",
   "execution_count": 13,
   "metadata": {},
   "outputs": [],
   "source": [
    "def visualize(lst):\n",
    "    for e in lst:\n",
    "        print(e[0].strip().split('\\t')[0])\n",
    "        print(e[0].strip().split('\\t')[1])\n",
    "        print(e[1].strip())\n",
    "        print(e[2].strip())\n",
    "        print('---')"
   ]
  },
  {
   "cell_type": "code",
   "execution_count": 14,
   "metadata": {},
   "outputs": [
    {
     "name": "stdout",
     "output_type": "stream",
     "text": [
      "* C' était vraiment très intéressant *\n",
      "+ 1 pour la référence .\n",
      "Je suis allé voir des grands groupes X @-@ parents habitent ailleurs , j' ai eu la semaine dernière .\n",
      "* * * * * * * * * * * * * * * * * * * * * * * * * * * *\n",
      "---\n",
      "Le lien de l' image .\n",
      "Y' a pas de lien . T' a fait un self @-@ post .\n",
      "Je suis sur que je suis sur reddit .\n",
      "Le lien de l' article est bien plus utile que le lien de la page de blog .\n",
      "---\n",
      "Le sucre est un produit chimique .\n",
      "tu préfères \" des produits issus de l' industrie chimique \" ? Je suis d' accord , c' est un abus de langage , mais je trouve que\n",
      "Non , mais c' est pas du sucre , mais les employés peuvent faire du sucre , c' est un peu cher . Et puis , c' est\n",
      "Le fromage est un fromage blanc .\n",
      "---\n",
      "Le vrai vote radical est le vote extrême droite . Je préférerais que ce soit le vote majoritaire cependant .\n",
      "Juste pour rappeler que le parti radical est un parti centriste .\n",
      "\" vote Marine Le Pen aurait été élue UKIP avait annoncé le vote FN ... \"\n",
      "Le vote FN est un parti socialiste .\n",
      "---\n",
      "Je pense qu' il ne sait même pas ce que c' est , un portefeuille .\n",
      "normal , c' est un homme d' actions\n",
      "Il n' a pas eu peur qu' il avait eu son président de la politique .\n",
      "Je pense qu' il y a des gens qui ont un droit de vote pour un parti pour un parti de la vie privée .\n",
      "---\n",
      "Ils sont où les FN ?\n",
      "Dans \" non @-@ inscrits \" , la légende concerne les groupes parlementaires .\n",
      "C' est pas le FN qui a fait la même chose .\n",
      "Ils sont partis politiques , ils sont partis politiques , ils sont pas cons .\n",
      "---\n",
      "Ils en ont pas déjà ?\n",
      "Une * * nouvelle * * usine\n",
      "C' est pas le premier degré de touristes japonais qui ont eu des trous du cul .\n",
      "Ils ont toujours été mis en place pour les raisons de la vie .\n",
      "---\n",
      "Ils ont aussi racheté les droits du Seigneur des Anneaux ?\n",
      "Ouaip , et donc le prochain volet sera réalisé par M. Jackson ( si si c' est vrai ) et ce sera une comédie musicale . \" Drakoulious\n",
      "Je suis d' accord . J' ai vu que j' ai entendu parler de moi . J' ai appris que j' ai appris récemment avec moi . J'\n",
      "Ils ont toujours été mis en place pour les droits de la famille , mais ils ont toujours été mis en place pour les droits de la famille\n",
      "---\n",
      "Le niveau des opposants au mariage pour tous est tres loin en dessous du comptoir ...\n",
      "De ceux qu' on montre ... 74 % des journalistes ayant voté Hollande , tu risques pas de voir des points de vue éclairés .\n",
      "Oui , la Russie n' est pas la plus grosse .\n",
      "Le FN est un parti pour le FN .\n",
      "---\n",
      "Le * Monde Diplomatique * est un torchon d' extrême @-@ gauche qui analyse absolument tout sous forme de rapport de force . Les dominés sont toujours innocents\n",
      "Il est où le rapport de force dans l' article ? Moi je ne vois le manichéisme que dans l' action des Femen , et c' est précisément\n",
      "Je suis d' accord , mais je suis pas un accord avec toi .\n",
      "Le Monde est complètement stupide , mais il n' y a pas de contexte de la propagande de la propagande de la propagande de la propagande de la\n",
      "---\n",
      "La République exemplaire .\n",
      "un menteur exemplaire .\n",
      "C' est pas la même blague\n",
      "La République est un peu plus élevé que le taux de chômage , et le taux de chômage est un taux de chômage .\n",
      "---\n",
      "Ils sont partis de haut ?\n",
      "Il y a pas eu un avant et un après achat par Le Nouvel Obs ? Je ne suis pas trop Rue89 mais il me semblait plutôt que\n",
      "C' est pas le parti de l' UMP qui se présente comme le FN .\n",
      "Ils sont partis politiques de droite , ils sont partis politiques , ils sont partis politiques , ils sont partis politiques , ils sont partis en ont\n",
      "---\n",
      "Je pense qu' ils vivent sur le seul choix possible . Ils estiment que les électeurs de gauche n' iront pas voter a droite et que voter plus\n",
      "Il y a très certainement de ça , mais croire que les gens qui votent au PS ne voteraient pas Front de Gauche juste à cause de Mélenchon\n",
      "Le parti islamiste progresse dans le journal de gauche , je ne vois pas le problème .\n",
      "Je pense qu' ils sont partis politiques , ils sont partis politiques , ils sont partis politiques , ils sont partis politiques , ils sont partis en ont\n",
      "---\n",
      "Le pire ça reste quand même le prix au kilo de l' hélium .\n",
      "Si on pouvait acheter du vide ... !\n",
      "Oui je ne vois pas ce que l' article ne me semble pas que ce soit l' idée de ce que l' article ne soit pas l' idée\n",
      "Le prix du prix du prix du prix du prix du prix du prix du prix du prix du prix du prix du prix du prix du prix\n",
      "---\n"
     ]
    }
   ],
   "source": [
    "visualize(collected)"
   ]
  },
  {
   "cell_type": "code",
   "execution_count": null,
   "metadata": {},
   "outputs": [],
   "source": []
  }
 ],
 "metadata": {
  "kernelspec": {
   "display_name": "Python 3",
   "language": "python",
   "name": "python3"
  },
  "language_info": {
   "codemirror_mode": {
    "name": "ipython",
    "version": 3
   },
   "file_extension": ".py",
   "mimetype": "text/x-python",
   "name": "python",
   "nbconvert_exporter": "python",
   "pygments_lexer": "ipython3",
   "version": "3.7.3"
  }
 },
 "nbformat": 4,
 "nbformat_minor": 4
}
